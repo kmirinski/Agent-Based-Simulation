{
 "cells": [
  {
   "cell_type": "code",
   "execution_count": 15,
   "metadata": {},
   "outputs": [],
   "source": [
    "import numpy as np\n",
    "import pandas as pd\n",
    "\n",
    "import random"
   ]
  },
  {
   "cell_type": "code",
   "execution_count": 16,
   "metadata": {},
   "outputs": [],
   "source": [
    "from abc import ABC"
   ]
  },
  {
   "cell_type": "code",
   "execution_count": 17,
   "metadata": {},
   "outputs": [
    {
     "name": "stdout",
     "output_type": "stream",
     "text": [
      "[[  0  15  37  75 195 239 149 262 292 675]\n",
      " [ 15   0  45  90 210 247 157 270 300 690]\n",
      " [ 37  45   0  45 172 202 112 225 255 652]\n",
      " [ 75  90  45   0 135 180  95 190 234 630]\n",
      " [195 210 172 135   0  60 161  67 112 495]\n",
      " [239 247 202 180  60   0 201  37  67 450]\n",
      " [149 157 112  95 161 201   0 206 257 634]\n",
      " [262 270 225 190  67  37 206   0  76 444]\n",
      " [292 300 255 234 112  67 257  76   0 436]\n",
      " [675 690 652 630 495 450 634 444 436   0]]\n"
     ]
    }
   ],
   "source": [
    "# Reading the distance matrix file\n",
    "\n",
    "with open('instance_files/param_dist.csv') as f:\n",
    "    matrix_size_raw = f.readline().strip().split(',')\n",
    "    matrix_size = (int(matrix_size_raw[0]), int(matrix_size_raw[1]))\n",
    "\n",
    "    # dist_matrix = pd.read_csv(f, header=None)\n",
    "    dist_matrix = pd.read_csv(f, header=None).values\n",
    "\n",
    "# print(matrix_size)\n",
    "print(dist_matrix)\n"
   ]
  },
  {
   "cell_type": "code",
   "execution_count": 18,
   "metadata": {},
   "outputs": [
    {
     "name": "stdout",
     "output_type": "stream",
     "text": [
      "   id  orig  dest  amount  price   lw   uw  selected\n",
      "0   0     0     6      13  10000   62  110         1\n",
      "1   1     2     3      13  10000  116  164         1\n",
      "2   2     0     3      30  10000   44   68         1\n",
      "3   3     0     3      24  10000   73   97         1\n",
      "4   4     1     3      12  10000  120  192         1\n"
     ]
    }
   ],
   "source": [
    "# Reading the distance matrix file\n",
    "\n",
    "demand_df = pd.read_csv('instance_files/param_demand_5.csv')\n",
    "print(demand_df)\n",
    "# print(demand_df.iloc[3]['id']) -> print the id of the 3rd row\n"
   ]
  },
  {
   "cell_type": "code",
   "execution_count": 19,
   "metadata": {},
   "outputs": [
    {
     "name": "stdout",
     "output_type": "stream",
     "text": [
      "   id  type name   long_name\n",
      "0   0     1   N0       Delta\n",
      "1   1     1   N1     Euromax\n",
      "2   2     1   N2        HOME\n",
      "3   3     1   N3    Moerdijk\n",
      "4   4     1   N4       Venlo\n",
      "5   5     1   N5    Duisburg\n",
      "6   6     1   N6  Willebroek\n",
      "7   7     1   N7       Neuss\n",
      "8   8     1   N8    Dortmund\n",
      "9   9     1   N9   Nuremberg\n"
     ]
    }
   ],
   "source": [
    "nodes_df = pd.read_csv('instance_files/param_nodes.csv')\n",
    "print(nodes_df)"
   ]
  },
  {
   "cell_type": "code",
   "execution_count": 20,
   "metadata": {},
   "outputs": [],
   "source": [
    "class Shipper(Agent):\n",
    "    def __init__(self, unique_id, model):\n",
    "        super().__init__(unique_id, model)\n",
    "    \n",
    "    def step(self):\n",
    "        lsp = random.choice(self.model.lsp_agents)\n",
    "        lsp.receive_request(self)\n",
    "\n",
    "class LSP(Agent):\n",
    "    def __init__(self, unique_id, carriers):\n",
    "        super().__init__(unique_id, carriers)\n",
    "        self.location = None\n",
    "        self.route = []\n",
    "\n",
    "    def receive_request(self, shipper):\n",
    "        carrier = random.choice(self.model.carrier_agents)\n",
    "        carrier.handle_request(shipper)\n",
    "\n",
    "class Carrier(Agent):\n",
    "\n",
    "    def __init__(self, unique_id, model):\n",
    "        super().__init__(unique_id, model)\n",
    "\n",
    "    def handle_request(self, shipper):\n",
    "        print(f\"Carrier {self.unique_id} is sending a truck for Shipper {shipper.unique_id}.\")\n",
    "\n",
    "\n",
    "\n",
    "\n"
   ]
  },
  {
   "cell_type": "code",
   "execution_count": 30,
   "metadata": {},
   "outputs": [],
   "source": [
    "class LogisticsModel(Model):\n",
    "    def __init__(self, num_shippers, num_lsps, num_carriers):\n",
    "        self.num_agents = num_shippers + num_lsps + num_carriers\n",
    "        self.schedule = RandomActivation(self)\n",
    "\n",
    "        # Create agents\n",
    "        self.shipper_agents = [Shipper(i, self) for i in range(num_shippers)]\n",
    "        for agent in self.shipper_agents:\n",
    "            self.schedule.add(agent)\n",
    "        \n",
    "        self.lsp_agents = [LSP(i + num_shippers, self) for i in range(num_lsps)]\n",
    "        for agent in self.lsp_agents:\n",
    "            self.schedule.add(agent)\n",
    "        \n",
    "        self.carrier_agents = [Carrier(i + num_lsps + num_shippers, self) for i in range(num_carriers)]\n",
    "        for agent in self.carrier_agents:\n",
    "            self.schedule.add(agent)\n",
    "\n",
    "    def step(self):\n",
    "        self.schedule.step()"
   ]
  },
  {
   "cell_type": "code",
   "execution_count": 31,
   "metadata": {},
   "outputs": [
    {
     "name": "stdout",
     "output_type": "stream",
     "text": [
      "Step 0\n",
      "Carrier 5 is sending a truck for Shipper 0.\n",
      "Step 1\n",
      "Carrier 4 is sending a truck for Shipper 0.\n",
      "Step 2\n",
      "Carrier 6 is sending a truck for Shipper 0.\n",
      "Step 3\n",
      "Carrier 5 is sending a truck for Shipper 0.\n",
      "Step 4\n",
      "Carrier 3 is sending a truck for Shipper 0.\n",
      "Step 5\n",
      "Carrier 3 is sending a truck for Shipper 0.\n",
      "Step 6\n",
      "Carrier 5 is sending a truck for Shipper 0.\n",
      "Step 7\n",
      "Carrier 4 is sending a truck for Shipper 0.\n",
      "Step 8\n",
      "Carrier 4 is sending a truck for Shipper 0.\n",
      "Step 9\n",
      "Carrier 4 is sending a truck for Shipper 0.\n"
     ]
    },
    {
     "name": "stderr",
     "output_type": "stream",
     "text": [
      "c:\\Users\\kosyo\\AppData\\Local\\Programs\\Python\\Python312\\Lib\\site-packages\\mesa\\agent.py:52: FutureWarning: The Mesa Model class was not initialized. In the future, you need to explicitly initialize the Model by calling super().__init__() on initialization.\n",
      "  self.model.register_agent(self)\n"
     ]
    }
   ],
   "source": [
    "# End flag that will be set when everything is delivered\n",
    "end_flag = False\n",
    "\n",
    "# Parameters for the simulation\n",
    "num_shippers = 1\n",
    "num_lsps = 2\n",
    "num_carriers = 4\n",
    "\n",
    "model = LogisticsModel(num_shippers, num_lsps, num_carriers)\n",
    "\n",
    "while(not end_flag):\n",
    "    model.step()\n",
    "\n"
   ]
  }
 ],
 "metadata": {
  "kernelspec": {
   "display_name": "Python 3",
   "language": "python",
   "name": "python3"
  },
  "language_info": {
   "codemirror_mode": {
    "name": "ipython",
    "version": 3
   },
   "file_extension": ".py",
   "mimetype": "text/x-python",
   "name": "python",
   "nbconvert_exporter": "python",
   "pygments_lexer": "ipython3",
   "version": "3.12.3"
  }
 },
 "nbformat": 4,
 "nbformat_minor": 2
}
